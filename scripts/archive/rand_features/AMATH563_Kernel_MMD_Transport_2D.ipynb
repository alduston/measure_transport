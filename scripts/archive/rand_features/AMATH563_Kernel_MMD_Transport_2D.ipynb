{
 "cells": [
  {
   "cell_type": "code",
   "execution_count": 1,
   "id": "66af8752",
   "metadata": {
    "id": "66af8752"
   },
   "outputs": [
    {
     "ename": "ModuleNotFoundError",
     "evalue": "No module named 'tqdm'",
     "output_type": "error",
     "traceback": [
      "\u001B[0;31m---------------------------------------------------------------------------\u001B[0m",
      "\u001B[0;31mModuleNotFoundError\u001B[0m                       Traceback (most recent call last)",
      "\u001B[0;32m/var/folders/8q/6_z6rg492b3bf268t4m1yhph0000gn/T/ipykernel_11277/3806192055.py\u001B[0m in \u001B[0;36m<module>\u001B[0;34m\u001B[0m\n\u001B[1;32m      6\u001B[0m \u001B[0;32mimport\u001B[0m \u001B[0mmatplotlib\u001B[0m\u001B[0;34m.\u001B[0m\u001B[0mpyplot\u001B[0m \u001B[0;32mas\u001B[0m \u001B[0mplt\u001B[0m\u001B[0;34m\u001B[0m\u001B[0;34m\u001B[0m\u001B[0m\n\u001B[1;32m      7\u001B[0m \u001B[0;32mfrom\u001B[0m \u001B[0mjax\u001B[0m \u001B[0;32mimport\u001B[0m \u001B[0mgrad\u001B[0m\u001B[0;34m,\u001B[0m \u001B[0mvmap\u001B[0m\u001B[0;34m,\u001B[0m \u001B[0mjit\u001B[0m\u001B[0;34m\u001B[0m\u001B[0;34m\u001B[0m\u001B[0m\n\u001B[0;32m----> 8\u001B[0;31m \u001B[0;32mfrom\u001B[0m \u001B[0mtqdm\u001B[0m\u001B[0;34m.\u001B[0m\u001B[0mnotebook\u001B[0m \u001B[0;32mimport\u001B[0m \u001B[0mtqdm\u001B[0m \u001B[0;32mas\u001B[0m \u001B[0mt\u001B[0m\u001B[0;34m\u001B[0m\u001B[0;34m\u001B[0m\u001B[0m\n\u001B[0m\u001B[1;32m      9\u001B[0m \u001B[0;34m\u001B[0m\u001B[0m\n",
      "\u001B[0;31mModuleNotFoundError\u001B[0m: No module named 'tqdm'"
     ]
    }
   ],
   "source": [
    "from jax.config import config\n",
    "config.update(\"jax_enable_x64\", True)\n",
    "import numpy as np\n",
    "import jax\n",
    "import jax.numpy as jnp\n",
    "import matplotlib.pyplot as plt\n",
    "from jax import grad, vmap, jit\n",
    "from tqdm.notebook import tqdm as t"
   ]
  },
  {
   "cell_type": "code",
   "execution_count": null,
   "id": "154e17e7",
   "metadata": {
    "id": "154e17e7"
   },
   "outputs": [],
   "source": [
    "N_samples = 500"
   ]
  },
  {
   "cell_type": "code",
   "execution_count": null,
   "id": "a6987372",
   "metadata": {
    "colab": {
     "base_uri": "https://localhost:8080/",
     "height": 447
    },
    "id": "a6987372",
    "outputId": "13c0a5bb-52ac-4277-c109-e73aa02b2148"
   },
   "outputs": [],
   "source": [
    "ref_smpl = np.random.randn(N_samples,2)\n",
    "\n",
    "xx = np.random.randn(1, N_samples)\n",
    "zz = np.random.randn(1, N_samples)\n",
    "# draw samples from target obtained by y = x^2 + z, x,z ~ N(0,1)\n",
    "tar_smpl = np.concatenate( (xx, np.power(xx, 2) + 0.3*zz), 1 ).reshape(2,N_samples).T\n",
    "\n",
    "plt.scatter(*ref_smpl.T, label = 'reference')\n",
    "plt.scatter(*tar_smpl.T, label = 'target')\n",
    "plt.legend()"
   ]
  },
  {
   "cell_type": "code",
   "execution_count": null,
   "id": "6d0ce543",
   "metadata": {
    "id": "6d0ce543"
   },
   "outputs": [],
   "source": [
    "#first, operator valued kernel"
   ]
  },
  {
   "cell_type": "code",
   "execution_count": null,
   "id": "90b601ab",
   "metadata": {
    "id": "90b601ab"
   },
   "outputs": [],
   "source": [
    "g = 1"
   ]
  },
  {
   "cell_type": "code",
   "execution_count": null,
   "id": "f8bee2f4",
   "metadata": {
    "colab": {
     "base_uri": "https://localhost:8080/"
    },
    "id": "f8bee2f4",
    "outputId": "ce75db29-c99f-489e-b193-8e747dac03a2"
   },
   "outputs": [
    {
     "output_type": "stream",
     "name": "stderr",
     "text": [
      "WARNING:jax._src.xla_bridge:No GPU/TPU found, falling back to CPU. (Set TF_CPP_MIN_LOG_LEVEL=0 and rerun for more info.)\n"
     ]
    }
   ],
   "source": [
    "MM = jnp.array([[1,0],[0,1]])"
   ]
  },
  {
   "cell_type": "code",
   "execution_count": null,
   "id": "5bc5a105",
   "metadata": {
    "id": "5bc5a105"
   },
   "outputs": [],
   "source": [
    "def K(x, y, gamma = g):\n",
    "    #x in R^n, y in R^n\n",
    "    #outputs a 2x2 matrix \n",
    "    return MM*1/(1+jnp.dot(x-y,x-y)*gamma)\n",
    "\n",
    "Kvec = vmap(vmap(K, in_axes=(None, 0)), in_axes=(0, None))\n",
    "\n",
    "@jit\n",
    "def OpK(x, y, gamma = 1):\n",
    "    M = Kvec(x, y) #Somewhat magic code for Op valued kernels \n",
    "    M = jnp.swapaxes(M,1,2) \n",
    "    return M.reshape(2*M.shape[0],2*M.shape[2])"
   ]
  },
  {
   "cell_type": "markdown",
   "id": "51902174",
   "metadata": {
    "id": "51902174"
   },
   "source": [
    "We are looking for functions $f: \\mathcal X = \\mathbb R^2 \\mapsto \\mathbb R^2 = \\mathcal Y$ \n",
    "\n",
    "\n",
    "$$f^\\dagger = \\textrm{argmin}_{f \\in H} \\lambda \\Vert f \\Vert^2_K + \\textrm{MMD}(X + f(X), Y)$$ \n",
    "\n",
    "by the Representer theorem, $f(\\cdot) = K(\\cdot, X)K(X ,X)^{-1}Z$, where $Z \\in \\mathcal Y^n$ minimizes\n",
    "$$ \\min_{Z \\in \\mathcal Y^n} \\lambda z^t K(X,X)^{-1}z + \\textrm{MMD}(X + Z, Y) $$ "
   ]
  },
  {
   "cell_type": "code",
   "execution_count": null,
   "id": "e16c8858",
   "metadata": {
    "id": "e16c8858"
   },
   "outputs": [],
   "source": [
    "#Coding the objective function for MMD with random features"
   ]
  },
  {
   "cell_type": "code",
   "execution_count": null,
   "id": "73fee6e6",
   "metadata": {
    "id": "73fee6e6"
   },
   "outputs": [],
   "source": [
    "Nfeatures = 600\n",
    "kappa = np.sqrt(2/Nfeatures)\n",
    "\n",
    "bs = np.random.uniform(low = 0, high = 2*np.pi, size = Nfeatures)\n",
    "ws = np.random.normal(size = (Nfeatures,2))\n"
   ]
  },
  {
   "cell_type": "code",
   "execution_count": null,
   "id": "3d028193",
   "metadata": {
    "id": "3d028193"
   },
   "outputs": [],
   "source": [
    "def phi(x):\n",
    "    #x is in R^2, phi(x) is in R^Nfeatures\n",
    "    return kappa*jnp.cos(ws@x + bs)"
   ]
  },
  {
   "cell_type": "code",
   "execution_count": null,
   "id": "091873f0",
   "metadata": {
    "id": "091873f0"
   },
   "outputs": [],
   "source": [
    "phi_vec = jit(vmap(phi))"
   ]
  },
  {
   "cell_type": "code",
   "execution_count": null,
   "id": "3083b31b",
   "metadata": {
    "id": "3083b31b"
   },
   "outputs": [],
   "source": [
    "def MMD(A, B):\n",
    "    #A is [n, 2]\n",
    "    #B is [m, 2]\n",
    "    #MMD(A, B) is a number\n",
    "    return jnp.linalg.norm(jnp.mean(phi_vec(A), axis = 0) - jnp.mean(phi_vec(B), axis = 0))"
   ]
  },
  {
   "cell_type": "code",
   "execution_count": null,
   "id": "6d8da86e",
   "metadata": {
    "id": "6d8da86e"
   },
   "outputs": [],
   "source": [
    "Kxx = OpK(ref_smpl, ref_smpl)"
   ]
  },
  {
   "cell_type": "code",
   "execution_count": null,
   "id": "f043611f",
   "metadata": {
    "id": "f043611f"
   },
   "outputs": [],
   "source": [
    "Kxxinv = jnp.linalg.inv(Kxx+1e-4*jnp.eye(len(Kxx)))"
   ]
  },
  {
   "cell_type": "code",
   "execution_count": null,
   "id": "478493ba",
   "metadata": {
    "id": "478493ba"
   },
   "outputs": [],
   "source": [
    "λ = 1e-5\n",
    "@jit\n",
    "def objective_function(z):\n",
    "    #z is in R^{dx * n_points}\n",
    "    return λ * z.T@Kxxinv@z + MMD(ref_smpl + z.reshape(N_samples, 2), tar_smpl)"
   ]
  },
  {
   "cell_type": "code",
   "execution_count": null,
   "id": "21e02bc6",
   "metadata": {
    "id": "21e02bc6"
   },
   "outputs": [],
   "source": [
    "from jax.scipy.optimize import minimize"
   ]
  },
  {
   "cell_type": "code",
   "execution_count": null,
   "id": "cf71084a",
   "metadata": {
    "id": "cf71084a"
   },
   "outputs": [],
   "source": [
    "z_0 = jnp.zeros(N_samples*2)\n",
    "res = minimize(objective_function, z_0, method='BFGS', tol =1e-3)"
   ]
  },
  {
   "cell_type": "code",
   "execution_count": null,
   "id": "ac835cb5",
   "metadata": {
    "colab": {
     "base_uri": "https://localhost:8080/"
    },
    "id": "ac835cb5",
    "outputId": "608fd5ae-2a1c-4982-ef65-0a74eb85c759"
   },
   "outputs": [
    {
     "output_type": "stream",
     "name": "stdout",
     "text": [
      "True\n"
     ]
    }
   ],
   "source": [
    "print(res.success)"
   ]
  },
  {
   "cell_type": "code",
   "execution_count": null,
   "id": "c8b732c8",
   "metadata": {
    "colab": {
     "base_uri": "https://localhost:8080/",
     "height": 447
    },
    "id": "c8b732c8",
    "outputId": "dc610047-dc61-4cd0-95fe-d66768ca55f8"
   },
   "outputs": [
    {
     "output_type": "execute_result",
     "data": {
      "text/plain": [
       "<matplotlib.legend.Legend at 0x7fe2408f5480>"
      ]
     },
     "metadata": {},
     "execution_count": 36
    },
    {
     "output_type": "display_data",
     "data": {
      "text/plain": [
       "<Figure size 640x480 with 1 Axes>"
      ],
      "image/png": "[encoded data removed]"
     },
     "metadata": {}
    }
   ],
   "source": [
    "plt.scatter(*ref_smpl.T, label = 'reference')\n",
    "plt.scatter(*(ref_smpl +res.x.reshape(N_samples, 2)).T, label = 'mapped')\n",
    "plt.scatter(*tar_smpl.T, label = 'target')\n",
    "plt.legend()"
   ]
  },
  {
   "cell_type": "code",
   "source": [],
   "metadata": {
    "id": "86r-lP-t1TWK"
   },
   "id": "86r-lP-t1TWK",
   "execution_count": null,
   "outputs": []
  }
 ],
 "metadata": {
  "kernelspec": {
   "display_name": "Python 3 (ipykernel)",
   "language": "python",
   "name": "python3"
  },
  "language_info": {
   "codemirror_mode": {
    "name": "ipython",
    "version": 3
   },
   "file_extension": ".py",
   "mimetype": "text/x-python",
   "name": "python",
   "nbconvert_exporter": "python",
   "pygments_lexer": "ipython3",
   "version": "3.8.8"
  },
  "colab": {
   "provenance": []
  }
 },
 "nbformat": 4,
 "nbformat_minor": 5
}